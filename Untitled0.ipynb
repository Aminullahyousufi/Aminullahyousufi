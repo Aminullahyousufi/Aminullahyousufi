{
  "cells": [
    {
      "cell_type": "markdown",
      "metadata": {
        "id": "view-in-github",
        "colab_type": "text"
      },
      "source": [
        "<a href=\"https://colab.research.google.com/github/Aminullahyousufi/Aminullahyousufi/blob/main/Untitled0.ipynb\" target=\"_parent\"><img src=\"https://colab.research.google.com/assets/colab-badge.svg\" alt=\"Open In Colab\"/></a>"
      ]
    },
    {
      "cell_type": "markdown",
      "source": [
        "Dictionary and Nesting"
      ],
      "metadata": {
        "id": "D87HB72hU_eP"
      }
    },
    {
      "cell_type": "code",
      "source": [
        "MIAGE_2IS = {\"Programming_languages\": '\"Java_advanced\", \"Python\", \"Java_script\"',\n",
        "             \"Data_Science\": '\"Power_BI\", \"MySQL\"'}\n",
        "print(MIAGE_2IS['Programming_languages'])"
      ],
      "metadata": {
        "id": "ghrasjRSiDBd",
        "colab": {
          "base_uri": "https://localhost:8080/"
        },
        "outputId": "27645602-f490-4c7b-83d2-9699300827c9"
      },
      "execution_count": 2,
      "outputs": [
        {
          "output_type": "stream",
          "name": "stdout",
          "text": [
            "\"Java_advanced\", \"Python\", \"Java_script\"\n"
          ]
        }
      ]
    },
    {
      "cell_type": "code",
      "source": [
        "MIAGE_2IS[\"Artificial Intelligence\"] = '\"Data Analytics\", \"Reasoning\"'"
      ],
      "metadata": {
        "id": "Pmptd3QfTY8F"
      },
      "execution_count": 3,
      "outputs": []
    },
    {
      "cell_type": "code",
      "source": [
        "print(MIAGE_2IS)"
      ],
      "metadata": {
        "colab": {
          "base_uri": "https://localhost:8080/"
        },
        "id": "NykUGIygTtb5",
        "outputId": "07c103f2-3be4-47f3-c5cc-9d9af709d9b4"
      },
      "execution_count": 4,
      "outputs": [
        {
          "output_type": "stream",
          "name": "stdout",
          "text": [
            "{'Programming_languages': '\"Java_advanced\", \"Python\", \"Java_script\"', 'Data_Science': '\"Power_BI\", \"MySQL\"', 'Artificial Intelligence': '\"Data Analytics\", \"Reasoning\"'}\n"
          ]
        }
      ]
    },
    {
      "cell_type": "markdown",
      "source": [
        "Loop through dictionary"
      ],
      "metadata": {
        "id": "xHEMF1oTVJjn"
      }
    },
    {
      "cell_type": "code",
      "source": [
        "students_score = {\"Aminullah\": 11, \"Parisa\": 13, \"Nour\": 14}"
      ],
      "metadata": {
        "id": "oPeLcVhzVINK"
      },
      "execution_count": 6,
      "outputs": []
    },
    {
      "cell_type": "code",
      "source": [
        "for student in students_score:\n",
        "  print(student,  students_score[student])"
      ],
      "metadata": {
        "colab": {
          "base_uri": "https://localhost:8080/"
        },
        "id": "CkwTGUyOVb_E",
        "outputId": "69ecf26d-0025-4027-ba8f-93c270669031"
      },
      "execution_count": 11,
      "outputs": [
        {
          "output_type": "stream",
          "name": "stdout",
          "text": [
            "Aminullah 11\n",
            "Parisa 13\n",
            "Nour 14\n"
          ]
        }
      ]
    },
    {
      "cell_type": "code",
      "source": [
        "students_score = {\"Aminullah\": 11, \"Parisa\": 13, \"Nour\": 14}\n",
        "\n",
        "for student in students_score:\n",
        "    score = students_score[student]\n",
        "    if score > 13:\n",
        "        students_score[student] = \"Outstanding\"\n",
        "    elif score > 11 and score <= 13:\n",
        "        students_score[student] = \"Exceptional\"\n",
        "    else:\n",
        "        students_score[student] = \"Acceptable\"\n",
        "\n",
        "print(students_score)"
      ],
      "metadata": {
        "colab": {
          "base_uri": "https://localhost:8080/"
        },
        "id": "CpYb7JNXZLiS",
        "outputId": "8ff7a741-6133-4bc4-f01c-12ad16bba89e"
      },
      "execution_count": 20,
      "outputs": [
        {
          "output_type": "stream",
          "name": "stdout",
          "text": [
            "{'Aminullah': 'Acceptable', 'Parisa': 'Exceptional', 'Nour': 'Outstanding'}\n"
          ]
        }
      ]
    },
    {
      "cell_type": "markdown",
      "source": [
        "Nesting Dictionary"
      ],
      "metadata": {
        "id": "qdYtFwW-ciMj"
      }
    },
    {
      "cell_type": "code",
      "source": [
        "travel_log = [\n",
        "{\n",
        "  \"country\": \"France\",\n",
        "  \"visits\": 12,\n",
        "  \"cities\": [\"Paris\", \"Lille\", \"Dijon\"]\n",
        "},\n",
        "{\n",
        "  \"country\": \"Germany\",\n",
        "  \"visits\": 5,\n",
        "  \"cities\": [\"Berlin\", \"Hamburg\", \"Stuttgart\"]\n",
        "},\n",
        "]\n",
        "#🚨 Do NOT change the code above\n",
        "\n",
        "#TODO: Write the function that will allow new countries\n",
        "#to be added to the travel_log.\n",
        "new_country = {\n",
        "  \"country\": \"Russia\",\n",
        "  \"visits\": 2,\n",
        "  \"cities\": [\"Moscow\", \"Saint Petersburg\"]\n",
        "},\n",
        "travel_log.append(new_country)\n",
        "print(travel_log)"
      ],
      "metadata": {
        "colab": {
          "base_uri": "https://localhost:8080/"
        },
        "id": "_E7qzN2kcljO",
        "outputId": "2d9dfd5a-f90c-4c84-abc3-a1f1da8eef3f"
      },
      "execution_count": 37,
      "outputs": [
        {
          "output_type": "stream",
          "name": "stdout",
          "text": [
            "[{'country': 'France', 'visits': 12, 'cities': ['Paris', 'Lille', 'Dijon']}, {'country': 'Germany', 'visits': 5, 'cities': ['Berlin', 'Hamburg', 'Stuttgart']}, ({'country': 'Russia', 'visits': 2, 'cities': ['Moscow', 'Saint Petersburg']},)]\n"
          ]
        }
      ]
    },
    {
      "cell_type": "code",
      "source": [],
      "metadata": {
        "id": "L5WH00eKdDwN"
      },
      "execution_count": null,
      "outputs": []
    }
  ],
  "metadata": {
    "colab": {
      "provenance": [],
      "authorship_tag": "ABX9TyMF/PL42TuxYMSLzpfu+vJe",
      "include_colab_link": true
    },
    "kernelspec": {
      "display_name": "Python 3",
      "name": "python3"
    },
    "language_info": {
      "name": "python"
    }
  },
  "nbformat": 4,
  "nbformat_minor": 0
}